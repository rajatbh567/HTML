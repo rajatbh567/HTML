{
  "nbformat": 4,
  "nbformat_minor": 0,
  "metadata": {
    "colab": {
      "provenance": []
    },
    "kernelspec": {
      "name": "python3",
      "display_name": "Python 3"
    },
    "language_info": {
      "name": "python"
    }
  },
  "cells": [
    {
      "cell_type": "markdown",
      "source": [
        "# HTML\n"
      ],
      "metadata": {
        "id": "m-s9-RufIGw4"
      }
    },
    {
      "cell_type": "markdown",
      "source": [
        "1. Write a simple program in HTML that displays the heading \"HTML defines the content and structure of your website” on the web browser?\n",
        "\n",
        "  Ans.  \n",
        "```\n",
        "# This is formatted as code\n",
        "\n",
        "<html>\n",
        "<head>\n",
        "<title>HTML</title>\n",
        "</head>\n",
        "<body>\n",
        "<h1> HTML defines the content and structure of your website </h1>\n",
        "</body>\n",
        "</html>\n",
        "```\n",
        "\n",
        "\n"
      ],
      "metadata": {
        "id": "F8eA89sOIXRP"
      }
    },
    {
      "cell_type": "markdown",
      "metadata": {
        "id": "48e37413"
      },
      "source": [
        "2. Explain the purpose of comments in HTML and provide an example of how to use comments in an HTML document?\n",
        "\n",
        "  Ans.\n",
        "  \n",
        "  - comments in HTML are used to add notes or explanations to your code that are not displayed in the browser. They are useful for clarifying your code, making it easier for others (or yourself in the future) to understand. They can also be used to temporarily hide parts of your code for testing or debugging.\n",
        "\n",
        "  - Here's an example of how to use comments in an HTML document:\n",
        "\n",
        "```\n",
        "# This is formatted as code\n",
        "<html>\n",
        "<head>\n",
        "<title>HTML Comments Example</title>\n",
        "</head>\n",
        "<body>\n",
        "<!-- This is a comment -->\n",
        "<h1>This is a heading</h1>\n",
        "<p>This is a paragraph.</p>\n",
        "</body>\n",
        "</html>\n",
        "```\n",
        "\n",
        "\n"
      ]
    },
    {
      "cell_type": "markdown",
      "source": [
        "3. Write an HTML program that includes a heading, a paragraph of text, a horizontal line, and a line break. Arrange these elements to create a simple web page layout ?\n",
        "\n",
        "Ans.\n",
        "\n",
        "```\n",
        "# This is formatted as code\n",
        "<html>\n",
        "<head>\n",
        "<title>Simple Layout</title>\n",
        "</head>\n",
        "<body>\n",
        "\n",
        "<h1>This is a Heading</h1>\n",
        "\n",
        "<p>This is a paragraph of text.</p>\n",
        "\n",
        "<hr> <!-- This creates a horizontal line -->\n",
        "\n",
        "<p>This text is on a new line after a line break.<br>This is another line of text after a line break.</p>\n",
        "\n",
        "</body>\n",
        "</html>\n",
        "```\n",
        "\n"
      ],
      "metadata": {
        "id": "CrXHFjO4XV0N"
      }
    },
    {
      "cell_type": "markdown",
      "source": [
        "4. Write a short note on Tag and element with an example ?\n",
        "\n",
        "  Ans.\n",
        "\n",
        "  - In HTML, tags and elements are fundamental concepts for structuring web content. A tag is a set of characters enclosed in angle brackets\n",
        "   . Tags are used to mark the beginning and end of an element, or to insert a self-closing element.There are opening tags and closing tags.\n",
        "   An element is the complete structure that includes an opening tag, its content, and a closing tag. Some elements, known as empty or self-closing elements, do not have content and thus only consist of a single tag.\n",
        "\n",
        "\n",
        "\n",
        "```\n",
        "# This is formatted as code\n",
        "<!DOCTYPE html>\n",
        "<html>\n",
        "<head>\n",
        "<title>Tag and Element Example</title>\n",
        "</head>\n",
        "<body>\n",
        "\n",
        "<h1>This is a Heading Element</h1>\n",
        "<!-- h1 is the tag, and <h1>This is a Heading Element</h1> is the element -->\n",
        "\n",
        "<p>This is a Paragraph Element.</p>\n",
        "<!-- p is the tag, and <p>This is a Paragraph Element.</p> is the element -->\n",
        "\n",
        "<br> <!-- br is an empty tag and also an empty element -->\n",
        "\n",
        "</body>\n",
        "</html>\n",
        "```\n",
        "\n"
      ],
      "metadata": {
        "id": "hq5RcTsqXonx"
      }
    },
    {
      "cell_type": "markdown",
      "source": [
        "5. What is the DOCTYPE Declaration in HTML?\n",
        "\n",
        "   Ans.\n",
        "\n",
        "    - The HTML document type declaration, also known as DOCTYPE, is the first line of code required in every HTML or XHTML document. The DOCTYPE declaration is an instruction to the web browser about what version of HTML the page is written in. This ensures that the web page is parsed the same way by different web browsers."
      ],
      "metadata": {
        "id": "-tmoNB1XabkC"
      }
    }
  ]
}